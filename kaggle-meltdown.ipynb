{
 "cells": [
  {
   "cell_type": "code",
   "execution_count": 1,
   "id": "3b59a820",
   "metadata": {
    "_cell_guid": "b1076dfc-b9ad-4769-8c92-a6c4dae69d19",
    "_uuid": "8f2839f25d086af736a60e9eeb907d3b93b6e0e5",
    "execution": {
     "iopub.execute_input": "2022-10-10T05:36:07.439887Z",
     "iopub.status.busy": "2022-10-10T05:36:07.438731Z",
     "iopub.status.idle": "2022-10-10T05:36:07.517723Z",
     "shell.execute_reply": "2022-10-10T05:36:07.516475Z"
    },
    "papermill": {
     "duration": 0.087947,
     "end_time": "2022-10-10T05:36:07.520790",
     "exception": false,
     "start_time": "2022-10-10T05:36:07.432843",
     "status": "completed"
    },
    "tags": []
   },
   "outputs": [
    {
     "name": "stdout",
     "output_type": "stream",
     "text": [
      "/kaggle/input/disaster-tweets/tweets.csv\n",
      "/kaggle/input/nlp-getting-started/sample_submission.csv\n",
      "/kaggle/input/nlp-getting-started/train.csv\n",
      "/kaggle/input/nlp-getting-started/test.csv\n"
     ]
    }
   ],
   "source": [
    "# Cloud Storage\n",
    "from google.cloud import storage\n",
    "storage_client = storage.Client(project='kaggle_meltdown')\n",
    "\n",
    "# Cloud AutoML\n",
    "from google.cloud import automl_v1beta1 as automl\n",
    "automl_client = automl.AutoMlClient()\n",
    "\n",
    "# Cloud Translation\n",
    "from google.cloud import translate_v2\n",
    "translate_client = translate_v2.Client()\n",
    "\n",
    "# Cloud Natural Language\n",
    "from google.cloud import language_v1\n",
    "client = language_v1.LanguageServiceClient()\n",
    "\n",
    "# Cloud Video Intelligence\n",
    "from google.cloud import videointelligence\n",
    "video_client = videointelligence.VideoIntelligenceServiceClient()\n",
    "\n",
    "# Cloud Vision\n",
    "from google.cloud import vision\n",
    "client = vision.ImageAnnotatorClient()\n",
    "\n",
    "\n",
    "# This Python 3 environment comes with many helpful analytics libraries installed\n",
    "# It is defined by the kaggle/python Docker image: https://github.com/kaggle/docker-python\n",
    "# For example, here's several helpful packages to load\n",
    "\n",
    "import numpy as np # linear algebra\n",
    "import pandas as pd # data processing, CSV file I/O (e.g. pd.read_csv)\n",
    "\n",
    "# Input data files are available in the read-only \"../input/\" directory\n",
    "# For example, running this (by clicking run or pressing Shift+Enter) will list all files under the input directory\n",
    "\n",
    "import os\n",
    "for dirname, _, filenames in os.walk('/kaggle/input'):\n",
    "    for filename in filenames:\n",
    "        print(os.path.join(dirname, filename))\n",
    "\n",
    "# You can write up to 20GB to the current directory (/kaggle/working/) that gets preserved as output when you create a version using \"Save & Run All\" \n",
    "# You can also write temporary files to /kaggle/temp/, but they won't be saved outside of the current session"
   ]
  }
 ],
 "metadata": {
  "kernelspec": {
   "display_name": "Python 3",
   "language": "python",
   "name": "python3"
  },
  "language_info": {
   "codemirror_mode": {
    "name": "ipython",
    "version": 3
   },
   "file_extension": ".py",
   "mimetype": "text/x-python",
   "name": "python",
   "nbconvert_exporter": "python",
   "pygments_lexer": "ipython3",
   "version": "3.7.12"
  },
  "papermill": {
   "default_parameters": {},
   "duration": 9.592572,
   "end_time": "2022-10-10T05:36:08.143113",
   "environment_variables": {},
   "exception": null,
   "input_path": "__notebook__.ipynb",
   "output_path": "__notebook__.ipynb",
   "parameters": {},
   "start_time": "2022-10-10T05:35:58.550541",
   "version": "2.3.4"
  }
 },
 "nbformat": 4,
 "nbformat_minor": 5
}
